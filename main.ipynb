{
 "cells": [
  {
   "attachments": {},
   "cell_type": "markdown",
   "metadata": {},
   "source": [
    "# **Quantum Anomaly Detection**\n",
    "\n",
    "Author: Athan Zhang (athanzxyt) \\\n",
    "Affiliation: Thomas Jefferson High School for Science and Technology, Quantum Research Lab (QLAB)"
   ]
  },
  {
   "attachments": {},
   "cell_type": "markdown",
   "metadata": {},
   "source": [
    "## Preliminary Setup\n",
    "\n",
    "We must first set up the working environments of this project."
   ]
  },
  {
   "cell_type": "code",
   "execution_count": 3,
   "metadata": {},
   "outputs": [],
   "source": [
    "# Import relevant libraries\n",
    "import os\n",
    "import time\n",
    "import pickle\n",
    "import covalent as ct\n",
    "import numpy as np\n",
    "import torch\n",
    "\n",
    "# Set a global seed for reproducibility\n",
    "SEED = 1234\n",
    "\n",
    "%matplotlib inline"
   ]
  },
  {
   "cell_type": "code",
   "execution_count": null,
   "metadata": {},
   "outputs": [],
   "source": [
    "# Begin the covalent server\n",
    "os.environ[\"COVALENT_SERVER_IFACE_ANY\"] = \"1\"\n",
    "os.system(\"covalent start --ignore-migrations\")\n",
    "time.sleep(5)                               # Give time for server to start"
   ]
  },
  {
   "attachments": {},
   "cell_type": "markdown",
   "metadata": {},
   "source": [
    "## Datasets\n",
    "\n",
    "All of the relevant data to this project can be found in the `./data` of this repository."
   ]
  },
  {
   "cell_type": "code",
   "execution_count": null,
   "metadata": {},
   "outputs": [],
   "source": [
    "@ct.electron\n",
    "def load_data_from_pickle(path):\n",
    "    return pickle.load(open(path, 'rb'))"
   ]
  },
  {
   "attachments": {},
   "cell_type": "markdown",
   "metadata": {},
   "source": [
    "We will train with mini-batches by processing data using the `torch` `DataLoader` object. However, this object is not pickleable which is a requirement of Covalent electrons. We will build a helper class to fix this."
   ]
  },
  {
   "cell_type": "code",
   "execution_count": null,
   "metadata": {},
   "outputs": [],
   "source": [
    "from collections.abc import Iterator\n",
    "\n",
    "class DataGetter:\n",
    "    \"\"\"\n",
    "    A pickleable mock-up of a Python iterator on a torch.utils.Dataloader.\n",
    "    Provide a dataset X and the resulting object O will allow you to use next(O).\n",
    "    \"\"\"\n",
    "\n",
    "    def __init__(self, X: torch.Tensor, batch_size: int, seed: int = SEED) -> None:\n",
    "        \"\"\" \n",
    "        Calls the _init_data method on initialization of a DataGetter Object.\n",
    "        \"\"\"\n",
    "        self.X = X\n",
    "        self.batch_size = batch_size\n",
    "        self.data = []\n",
    "        self._init_data(\n",
    "            iter(\n",
    "                torch.utils.data.DataLoader(\n",
    "                    self.X, batch_size=self.batch_size, shuffle=True)\n",
    "            )\n",
    "        )\n",
    "\n",
    "    def _init_data(self, iterator: Iterator):\n",
    "        \"\"\"\n",
    "        Load the data of the iterator into a list.\n",
    "        \"\"\"\n",
    "        x = next(iterator, None)\n",
    "        while x is not None:\n",
    "            self.data.append(x)\n",
    "            x = next(iterator, None)\n",
    "\n",
    "    def __next__(self) -> tuple:\n",
    "        \"\"\"\n",
    "        Analogous behaviour to the native Python next() but calling the\n",
    "        .pop() of the data attribute.\n",
    "        \"\"\"\n",
    "        try:\n",
    "            return self.data.pop()\n",
    "        except(IndexError):\n",
    "            self._init_data(\n",
    "                iter(\n",
    "                    torch.utils.data.DataLoader(\n",
    "                        self.X, batch_size=self.batch_size, shuffle=True)\n",
    "                )\n",
    "            )\n",
    "            return self.data.pop()"
   ]
  },
  {
   "attachments": {},
   "cell_type": "markdown",
   "metadata": {},
   "source": [
    "Now we create two Covalent electrons to call an instance of the helper class."
   ]
  },
  {
   "cell_type": "code",
   "execution_count": null,
   "metadata": {},
   "outputs": [],
   "source": [
    "@ct.electron\n",
    "def get_series_training_cycler(X_tr, n_series_batch):\n",
    "    X_cycler = DataGetter(X_tr, n_series_batch)\n",
    "    return X_cycler\n",
    "\n",
    "@ct.electron\n",
    "def get_timepoint_training_cycler(X_tr, n_t_batch):\n",
    "    n_time_points = X_tr.shape[2]\n",
    "    T  = torch.tensor(np.arange(n_time_points))\n",
    "    T_cycler = DataGetter(T, n_t_batch)\n",
    "    return T_cycler"
   ]
  },
  {
   "attachments": {},
   "cell_type": "markdown",
   "metadata": {},
   "source": [
    "With this, we are able to process data and cyrcle through a training set."
   ]
  },
  {
   "cell_type": "markdown",
   "metadata": {},
   "source": []
  }
 ],
 "metadata": {
  "kernelspec": {
   "display_name": "Q",
   "language": "python",
   "name": "python3"
  },
  "language_info": {
   "codemirror_mode": {
    "name": "ipython",
    "version": 3
   },
   "file_extension": ".py",
   "mimetype": "text/x-python",
   "name": "python",
   "nbconvert_exporter": "python",
   "pygments_lexer": "ipython3",
   "version": "3.9.16"
  },
  "orig_nbformat": 4
 },
 "nbformat": 4,
 "nbformat_minor": 2
}
